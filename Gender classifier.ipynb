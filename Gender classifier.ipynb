{
 "cells": [
  {
   "cell_type": "code",
   "execution_count": 1,
   "id": "51c0c744",
   "metadata": {},
   "outputs": [],
   "source": [
    "import pandas as pd \n",
    "from pickle import NONE\n",
    "import mysql.connector\n",
    "from mysql.connector import Error\n",
    "from sklearn.metrics import classification_report\n",
    "from sklearn.model_selection import train_test_split\n",
    "from sklearn.feature_extraction.text import TfidfVectorizer\n",
    "from sklearn.svm import LinearSVC\n",
    "import joblib "
   ]
  },
  {
   "cell_type": "markdown",
   "id": "93198977",
   "metadata": {},
   "source": [
    "## EDA\n"
   ]
  },
  {
   "cell_type": "code",
   "execution_count": 2,
   "id": "023fc961",
   "metadata": {},
   "outputs": [],
   "source": [
    "data = pd.read_csv('data\\ViNames_Train.csv')"
   ]
  },
  {
   "cell_type": "code",
   "execution_count": 3,
   "id": "07af0fcb",
   "metadata": {},
   "outputs": [
    {
     "data": {
      "text/html": [
       "<div>\n",
       "<style scoped>\n",
       "    .dataframe tbody tr th:only-of-type {\n",
       "        vertical-align: middle;\n",
       "    }\n",
       "\n",
       "    .dataframe tbody tr th {\n",
       "        vertical-align: top;\n",
       "    }\n",
       "\n",
       "    .dataframe thead th {\n",
       "        text-align: right;\n",
       "    }\n",
       "</style>\n",
       "<table border=\"1\" class=\"dataframe\">\n",
       "  <thead>\n",
       "    <tr style=\"text-align: right;\">\n",
       "      <th></th>\n",
       "      <th>Unnamed: 0</th>\n",
       "      <th>Full_Names</th>\n",
       "      <th>Gender</th>\n",
       "    </tr>\n",
       "  </thead>\n",
       "  <tbody>\n",
       "    <tr>\n",
       "      <th>0</th>\n",
       "      <td>0</td>\n",
       "      <td>Ngô Xuân Tùng</td>\n",
       "      <td>0</td>\n",
       "    </tr>\n",
       "    <tr>\n",
       "      <th>1</th>\n",
       "      <td>1</td>\n",
       "      <td>Bùi Dương Thảo Vy</td>\n",
       "      <td>1</td>\n",
       "    </tr>\n",
       "    <tr>\n",
       "      <th>2</th>\n",
       "      <td>2</td>\n",
       "      <td>Lưu Thế Huy</td>\n",
       "      <td>0</td>\n",
       "    </tr>\n",
       "    <tr>\n",
       "      <th>3</th>\n",
       "      <td>3</td>\n",
       "      <td>Nguyễn Thị Vân</td>\n",
       "      <td>1</td>\n",
       "    </tr>\n",
       "    <tr>\n",
       "      <th>4</th>\n",
       "      <td>4</td>\n",
       "      <td>Dương Minh Long</td>\n",
       "      <td>0</td>\n",
       "    </tr>\n",
       "    <tr>\n",
       "      <th>...</th>\n",
       "      <td>...</td>\n",
       "      <td>...</td>\n",
       "      <td>...</td>\n",
       "    </tr>\n",
       "    <tr>\n",
       "      <th>18790</th>\n",
       "      <td>18790</td>\n",
       "      <td>Trần Nguyễn Tường Vy</td>\n",
       "      <td>1</td>\n",
       "    </tr>\n",
       "    <tr>\n",
       "      <th>18791</th>\n",
       "      <td>18791</td>\n",
       "      <td>Phan Hải Âu</td>\n",
       "      <td>0</td>\n",
       "    </tr>\n",
       "    <tr>\n",
       "      <th>18792</th>\n",
       "      <td>18792</td>\n",
       "      <td>Phạm Trương Trúc Phương</td>\n",
       "      <td>1</td>\n",
       "    </tr>\n",
       "    <tr>\n",
       "      <th>18793</th>\n",
       "      <td>18793</td>\n",
       "      <td>Nguyễn Diệu Hiền</td>\n",
       "      <td>1</td>\n",
       "    </tr>\n",
       "    <tr>\n",
       "      <th>18794</th>\n",
       "      <td>18794</td>\n",
       "      <td>Nguyễn Đoàn Thảo Nhi</td>\n",
       "      <td>1</td>\n",
       "    </tr>\n",
       "  </tbody>\n",
       "</table>\n",
       "<p>18795 rows × 3 columns</p>\n",
       "</div>"
      ],
      "text/plain": [
       "       Unnamed: 0               Full_Names  Gender\n",
       "0               0            Ngô Xuân Tùng       0\n",
       "1               1        Bùi Dương Thảo Vy       1\n",
       "2               2              Lưu Thế Huy       0\n",
       "3               3           Nguyễn Thị Vân       1\n",
       "4               4          Dương Minh Long       0\n",
       "...           ...                      ...     ...\n",
       "18790       18790     Trần Nguyễn Tường Vy       1\n",
       "18791       18791              Phan Hải Âu       0\n",
       "18792       18792  Phạm Trương Trúc Phương       1\n",
       "18793       18793         Nguyễn Diệu Hiền       1\n",
       "18794       18794     Nguyễn Đoàn Thảo Nhi       1\n",
       "\n",
       "[18795 rows x 3 columns]"
      ]
     },
     "execution_count": 3,
     "metadata": {},
     "output_type": "execute_result"
    }
   ],
   "source": [
    "data"
   ]
  },
  {
   "cell_type": "code",
   "execution_count": 4,
   "id": "3f192b9a",
   "metadata": {},
   "outputs": [],
   "source": [
    "data_thi = data[(data['Full_Names'].str.contains(' thị ', case = False)) &  (data['Gender'] == 0)].replace(0,1)"
   ]
  },
  {
   "cell_type": "code",
   "execution_count": 5,
   "id": "84f32755",
   "metadata": {},
   "outputs": [],
   "source": [
    "test_data = data_thi.combine_first(data)"
   ]
  },
  {
   "cell_type": "code",
   "execution_count": 6,
   "id": "4225830f",
   "metadata": {},
   "outputs": [],
   "source": [
    "data = test_data"
   ]
  },
  {
   "cell_type": "markdown",
   "id": "0ed6d330",
   "metadata": {},
   "source": [
    "## Train model"
   ]
  },
  {
   "cell_type": "code",
   "execution_count": 7,
   "id": "5cd41900",
   "metadata": {},
   "outputs": [],
   "source": [
    "X = data['Full_Names']\n",
    "Y = data['Gender']"
   ]
  },
  {
   "cell_type": "code",
   "execution_count": 8,
   "id": "179b650d",
   "metadata": {},
   "outputs": [],
   "source": [
    "# Split data with 80% for train and 20% for test\n",
    "X_train, X_test, Y_train, Y_test = train_test_split(X, Y, train_size=0.8, random_state = 0)"
   ]
  },
  {
   "cell_type": "code",
   "execution_count": 9,
   "id": "7fc1d062",
   "metadata": {},
   "outputs": [],
   "source": [
    "# Vectorizer\n",
    "tf_idf = TfidfVectorizer(analyzer='word', ngram_range=(1,2), max_features = 4000)\n",
    "tf_idf.fit(X_train)\n",
    "\n",
    "X_train_enc = tf_idf.transform(X_train) \n",
    "X_test_enc = tf_idf.transform(X_test)"
   ]
  },
  {
   "cell_type": "code",
   "execution_count": 10,
   "id": "7e0d3e18",
   "metadata": {},
   "outputs": [
    {
     "data": {
      "text/plain": [
       "LinearSVC()"
      ]
     },
     "execution_count": 10,
     "metadata": {},
     "output_type": "execute_result"
    }
   ],
   "source": [
    "# Build SVM model\n",
    "SVM = LinearSVC()\n",
    "SVM.fit(X_train_enc, Y_train)"
   ]
  },
  {
   "cell_type": "code",
   "execution_count": 11,
   "id": "572c4f2d",
   "metadata": {},
   "outputs": [],
   "source": [
    "#Predict\n",
    "y_pred = SVM.predict(X_test_enc)"
   ]
  },
  {
   "cell_type": "code",
   "execution_count": 12,
   "id": "4c1e55ee",
   "metadata": {},
   "outputs": [
    {
     "name": "stdout",
     "output_type": "stream",
     "text": [
      "              precision    recall  f1-score   support\n",
      "\n",
      "           0       0.95      0.97      0.96      2152\n",
      "           1       0.96      0.94      0.95      1607\n",
      "\n",
      "    accuracy                           0.95      3759\n",
      "   macro avg       0.95      0.95      0.95      3759\n",
      "weighted avg       0.95      0.95      0.95      3759\n",
      "\n"
     ]
    }
   ],
   "source": [
    "#Evaluation and score\n",
    "print(classification_report(Y_test.to_list(), y_pred))"
   ]
  },
  {
   "cell_type": "code",
   "execution_count": 13,
   "id": "aa82bc6f",
   "metadata": {},
   "outputs": [],
   "source": [
    "result = pd.DataFrame({\n",
    "    \"Full_Names\": X_test, \n",
    "    \"Giới tính\":Y_test,\n",
    "    \"Dự đoán giới tính\": y_pred\n",
    "})\n",
    "# result.to_excel('ResultForTestTraining.xlsx')"
   ]
  },
  {
   "cell_type": "code",
   "execution_count": 14,
   "id": "4fec0454",
   "metadata": {},
   "outputs": [
    {
     "data": {
      "text/html": [
       "<div>\n",
       "<style scoped>\n",
       "    .dataframe tbody tr th:only-of-type {\n",
       "        vertical-align: middle;\n",
       "    }\n",
       "\n",
       "    .dataframe tbody tr th {\n",
       "        vertical-align: top;\n",
       "    }\n",
       "\n",
       "    .dataframe thead th {\n",
       "        text-align: right;\n",
       "    }\n",
       "</style>\n",
       "<table border=\"1\" class=\"dataframe\">\n",
       "  <thead>\n",
       "    <tr style=\"text-align: right;\">\n",
       "      <th></th>\n",
       "      <th>Full_Names</th>\n",
       "      <th>Giới tính</th>\n",
       "      <th>Dự đoán giới tính</th>\n",
       "    </tr>\n",
       "  </thead>\n",
       "  <tbody>\n",
       "  </tbody>\n",
       "</table>\n",
       "</div>"
      ],
      "text/plain": [
       "Empty DataFrame\n",
       "Columns: [Full_Names, Giới tính, Dự đoán giới tính]\n",
       "Index: []"
      ]
     },
     "execution_count": 14,
     "metadata": {},
     "output_type": "execute_result"
    }
   ],
   "source": [
    "result[(result['Full_Names'].str.contains(' văn ', case = False)) &  (result['Dự đoán giới tính'] == 1)]"
   ]
  },
  {
   "cell_type": "code",
   "execution_count": 15,
   "id": "e8b507ef",
   "metadata": {},
   "outputs": [],
   "source": [
    "#Save model\n",
    "# joblib.dump(SVM, 'model.joblib')"
   ]
  },
  {
   "cell_type": "code",
   "execution_count": 16,
   "id": "74a735dd",
   "metadata": {},
   "outputs": [
    {
     "name": "stdout",
     "output_type": "stream",
     "text": [
      "Connected to MySQL Server version  5.5.5-10.4.24-MariaDB\n",
      "You're connected to database:  ('myaloha',)\n"
     ]
    }
   ],
   "source": [
    "try:\n",
    "    connection = mysql.connector.connect(host='localhost',\n",
    "                                         database='myaloha',\n",
    "                                         user='root'\n",
    "                                        )\n",
    "    if connection.is_connected():\n",
    "        db_Info = connection.get_server_info()\n",
    "        print(\"Connected to MySQL Server version \", db_Info)\n",
    "        cursor = connection.cursor()\n",
    "        cursor.execute(\"select database();\")\n",
    "        record = cursor.fetchone()\n",
    "        print(\"You're connected to database: \", record)\n",
    "\n",
    "except Error as e:\n",
    "    print(\"Error while connecting to MySQL\", e)"
   ]
  },
  {
   "cell_type": "code",
   "execution_count": 17,
   "id": "e5c230cf",
   "metadata": {},
   "outputs": [],
   "source": [
    "#Query from DB and save data to a DataFrame\n",
    "query = (\"SELECT user_id, name FROM user\")\n",
    "cursor.execute(query)    \n",
    "myresult = cursor.fetchall()\n",
    "\n",
    "record = []\n",
    "\n",
    "for x in myresult:\n",
    "  record.append(x)\n"
   ]
  },
  {
   "cell_type": "code",
   "execution_count": 18,
   "id": "7d9b6b5d",
   "metadata": {},
   "outputs": [],
   "source": [
    "# Get list name from database\n",
    "list_names = []\n",
    "user_id = []\n",
    "for i in range(len(record)):\n",
    "    user_id.append(record[i][0])\n",
    "    list_names.append(record[i][1])"
   ]
  },
  {
   "cell_type": "code",
   "execution_count": 19,
   "id": "bb377e70",
   "metadata": {},
   "outputs": [],
   "source": [
    "df_db = pd.DataFrame({\n",
    "    \"User ID\":user_id,\n",
    "     \"Name\":list_names \n",
    "})"
   ]
  },
  {
   "cell_type": "code",
   "execution_count": 20,
   "id": "6f652f84",
   "metadata": {},
   "outputs": [
    {
     "data": {
      "text/html": [
       "<div>\n",
       "<style scoped>\n",
       "    .dataframe tbody tr th:only-of-type {\n",
       "        vertical-align: middle;\n",
       "    }\n",
       "\n",
       "    .dataframe tbody tr th {\n",
       "        vertical-align: top;\n",
       "    }\n",
       "\n",
       "    .dataframe thead th {\n",
       "        text-align: right;\n",
       "    }\n",
       "</style>\n",
       "<table border=\"1\" class=\"dataframe\">\n",
       "  <thead>\n",
       "    <tr style=\"text-align: right;\">\n",
       "      <th></th>\n",
       "      <th>User ID</th>\n",
       "      <th>Name</th>\n",
       "    </tr>\n",
       "  </thead>\n",
       "  <tbody>\n",
       "    <tr>\n",
       "      <th>0</th>\n",
       "      <td>1</td>\n",
       "      <td>Lưu Phúc Điền</td>\n",
       "    </tr>\n",
       "    <tr>\n",
       "      <th>1</th>\n",
       "      <td>2</td>\n",
       "      <td>test</td>\n",
       "    </tr>\n",
       "    <tr>\n",
       "      <th>2</th>\n",
       "      <td>3</td>\n",
       "      <td>Mon</td>\n",
       "    </tr>\n",
       "    <tr>\n",
       "      <th>3</th>\n",
       "      <td>4</td>\n",
       "      <td>monamedia</td>\n",
       "    </tr>\n",
       "    <tr>\n",
       "      <th>4</th>\n",
       "      <td>5</td>\n",
       "      <td>Vu Phan</td>\n",
       "    </tr>\n",
       "    <tr>\n",
       "      <th>...</th>\n",
       "      <td>...</td>\n",
       "      <td>...</td>\n",
       "    </tr>\n",
       "    <tr>\n",
       "      <th>99995</th>\n",
       "      <td>116436</td>\n",
       "      <td>Lê Bảo Phúc Nhân</td>\n",
       "    </tr>\n",
       "    <tr>\n",
       "      <th>99996</th>\n",
       "      <td>116437</td>\n",
       "      <td>Phạm Nguyễn Hoàng Oanh</td>\n",
       "    </tr>\n",
       "    <tr>\n",
       "      <th>99997</th>\n",
       "      <td>116438</td>\n",
       "      <td>Nguyen Thi Hong Ngoc</td>\n",
       "    </tr>\n",
       "    <tr>\n",
       "      <th>99998</th>\n",
       "      <td>116439</td>\n",
       "      <td>Shin</td>\n",
       "    </tr>\n",
       "    <tr>\n",
       "      <th>99999</th>\n",
       "      <td>116440</td>\n",
       "      <td>Phạm Trần Yến Nhi</td>\n",
       "    </tr>\n",
       "  </tbody>\n",
       "</table>\n",
       "<p>100000 rows × 2 columns</p>\n",
       "</div>"
      ],
      "text/plain": [
       "       User ID                    Name\n",
       "0            1           Lưu Phúc Điền\n",
       "1            2                    test\n",
       "2            3                     Mon\n",
       "3            4               monamedia\n",
       "4            5                 Vu Phan\n",
       "...        ...                     ...\n",
       "99995   116436        Lê Bảo Phúc Nhân\n",
       "99996   116437  Phạm Nguyễn Hoàng Oanh\n",
       "99997   116438    Nguyen Thi Hong Ngoc\n",
       "99998   116439                    Shin\n",
       "99999   116440       Phạm Trần Yến Nhi\n",
       "\n",
       "[100000 rows x 2 columns]"
      ]
     },
     "execution_count": 20,
     "metadata": {},
     "output_type": "execute_result"
    }
   ],
   "source": [
    "df_db"
   ]
  },
  {
   "cell_type": "code",
   "execution_count": 21,
   "id": "159464d7",
   "metadata": {},
   "outputs": [
    {
     "data": {
      "text/plain": [
       "array([0, 0, 0, ..., 1, 0, 1], dtype=int64)"
      ]
     },
     "execution_count": 21,
     "metadata": {},
     "output_type": "execute_result"
    }
   ],
   "source": [
    "#Predict data\n",
    "name_enc = tf_idf.transform(df_db['Name']) \n",
    "model = joblib.load('model.joblib')\n",
    "predict = model.predict(name_enc)\n",
    "predict"
   ]
  },
  {
   "cell_type": "code",
   "execution_count": 22,
   "id": "1ddfb183",
   "metadata": {},
   "outputs": [],
   "source": [
    "df_db['Gender predicted'] = predict\n",
    "# df_db.to_excel('GenderPredicted.xlsx', index = None)"
   ]
  },
  {
   "cell_type": "code",
   "execution_count": 23,
   "id": "b6ec105f",
   "metadata": {},
   "outputs": [
    {
     "data": {
      "text/html": [
       "<div>\n",
       "<style scoped>\n",
       "    .dataframe tbody tr th:only-of-type {\n",
       "        vertical-align: middle;\n",
       "    }\n",
       "\n",
       "    .dataframe tbody tr th {\n",
       "        vertical-align: top;\n",
       "    }\n",
       "\n",
       "    .dataframe thead th {\n",
       "        text-align: right;\n",
       "    }\n",
       "</style>\n",
       "<table border=\"1\" class=\"dataframe\">\n",
       "  <thead>\n",
       "    <tr style=\"text-align: right;\">\n",
       "      <th></th>\n",
       "      <th>User ID</th>\n",
       "      <th>Name</th>\n",
       "      <th>Gender predicted</th>\n",
       "    </tr>\n",
       "  </thead>\n",
       "  <tbody>\n",
       "    <tr>\n",
       "      <th>49691</th>\n",
       "      <td>65109</td>\n",
       "      <td>Huỳnh Văn Kim Ngân</td>\n",
       "      <td>1</td>\n",
       "    </tr>\n",
       "    <tr>\n",
       "      <th>81650</th>\n",
       "      <td>98083</td>\n",
       "      <td>Phương Thanh Văn Thị</td>\n",
       "      <td>1</td>\n",
       "    </tr>\n",
       "  </tbody>\n",
       "</table>\n",
       "</div>"
      ],
      "text/plain": [
       "       User ID                  Name  Gender predicted\n",
       "49691    65109    Huỳnh Văn Kim Ngân                 1\n",
       "81650    98083  Phương Thanh Văn Thị                 1"
      ]
     },
     "execution_count": 23,
     "metadata": {},
     "output_type": "execute_result"
    }
   ],
   "source": [
    "#Các trường hợp chữ lót là Văn và bị đoán sai giới tính\n",
    "df_db[(df_db['Name'].str.contains(' văn ', case = False)) & (df_db['Gender predicted'] == 1)]"
   ]
  },
  {
   "cell_type": "markdown",
   "id": "125baf47",
   "metadata": {},
   "source": [
    "## Update data to database"
   ]
  },
  {
   "cell_type": "code",
   "execution_count": 38,
   "id": "6068345e",
   "metadata": {},
   "outputs": [],
   "source": [
    "val = []\n",
    "for i in range(len(df_db)):\n",
    "    val.append(( int(df_db['Gender predicted'][i]), int(df_db['User ID'][i])))"
   ]
  },
  {
   "cell_type": "code",
   "execution_count": 41,
   "id": "5c8bf2e3",
   "metadata": {},
   "outputs": [],
   "source": [
    "query = \"UPDATE user SET gender =%s WHERE user_id = %s\"\n",
    "cursor.executemany(query, val)\n",
    "connection.commit()"
   ]
  }
 ],
 "metadata": {
  "kernelspec": {
   "display_name": "Python 3 (ipykernel)",
   "language": "python",
   "name": "python3"
  },
  "language_info": {
   "codemirror_mode": {
    "name": "ipython",
    "version": 3
   },
   "file_extension": ".py",
   "mimetype": "text/x-python",
   "name": "python",
   "nbconvert_exporter": "python",
   "pygments_lexer": "ipython3",
   "version": "3.9.6"
  }
 },
 "nbformat": 4,
 "nbformat_minor": 5
}
